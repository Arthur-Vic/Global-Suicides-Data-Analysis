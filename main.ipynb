{
 "cells": [
  {
   "cell_type": "code",
   "execution_count": null,
   "metadata": {},
   "outputs": [],
   "source": [
    "import pandas as pd\n",
    "import os\n",
    "\n",
    "data = pd.DataFrame()\n",
    "\n",
    "male_path = './MortalityData/Male/'\n",
    "female_path = './MortalityData/Female/'\n",
    "unknown_path = './MortalityData/Unknown/'\n",
    "\n",
    "male_files = os.listdir(male_path)\n",
    "female_files = os.listdir(female_path)\n",
    "unknown_files = os.listdir(unknown_path)\n",
    "\n",
    "male_csvs = [f'{male_path}{file}' for file in male_files if file.endswith('.csv')]\n",
    "female_csvs = [f'{female_path}{file}' for file in female_files if file.endswith('.csv')]\n",
    "unknown_csvs = [f'{unknown_path}{file}' for file in unknown_files if file.endswith('.csv')]\n",
    "\n",
    "#Listing all files (with respective paths) to be processed by pandas\n",
    "all_csvs = [*male_csvs, *female_csvs, *unknown_csvs]\n",
    "# print(all_csvs) #Debugging\n",
    "\n",
    "all_data = []\n",
    "\n",
    "for csv in all_csvs:\n",
    "    data = pd.read_csv(csv)\n",
    "    all_data.append(data)\n",
    "\n",
    "data_frame = pd.concat(all_data, ignore_index=True)\n",
    "# print(data_frame)\n",
    "\n",
    "data_frame.to_csv('complete-data.csv', index=False)"
   ]
  }
 ],
 "metadata": {
  "language_info": {
   "name": "python"
  },
  "orig_nbformat": 4
 },
 "nbformat": 4,
 "nbformat_minor": 2
}
